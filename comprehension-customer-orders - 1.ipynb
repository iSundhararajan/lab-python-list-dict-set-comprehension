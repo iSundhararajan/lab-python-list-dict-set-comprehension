{
 "cells": [
  {
   "cell_type": "code",
   "execution_count": 8,
   "metadata": {},
   "outputs": [
    {
     "name": "stdout",
     "output_type": "stream",
     "text": [
      "{'t-shirt': 1, 'mug': 1, 'hat': 3, 'book': 4, 'keychain': 5}\n"
     ]
    },
    {
     "data": {
      "text/plain": [
       "<function __main__.initialize_inventory(products)>"
      ]
     },
     "execution_count": 8,
     "metadata": {},
     "output_type": "execute_result"
    }
   ],
   "source": [
    "products = [\"t-shirt\", \"mug\", \"hat\", \"book\", \"keychain\"]\n",
    "# inventory = {}\n",
    "\n",
    "def initialize_inventory(products):\n",
    "    inventory = {product: int(input(f\"Enter the quantity of {product}s available: \")) for product in products}\n",
    "    return inventory\n",
    "\n",
    "\n",
    "inventory = initialize_inventory(products)\n",
    "print(inventory)\n",
    "\n",
    "def get_customer_orders():\n",
    "    customer_orders = set()\n",
    "    add_another = 'yes'\n",
    "    # while True:\n",
    "    while add_another.lower() == 'yes':\n",
    "        product_name = input(\"Enter the name of the product: \")\n",
    "        # if product_name in products:\n",
    "        customer_orders.add(product_name)\n",
    "    # Ask the user if they want to add another product\n",
    "        add_another = input(\"Do you want to add another product? (yes/no): \")\n",
    "        # if add_another == 'yes':\n",
    "        #     add_another_product\n",
    "        # elif add_another == 'no':\n",
    "        #     break\n",
    "    return customer_orders\n",
    "    print(customer_orders)\n",
    "\n",
    "def update_inventory(customer_orders, inventory):\n",
    "    new_list = [ordered_product for ordered_product in customer_orders if ordered_product in inventory]\n",
    "    # for ordered_product in customer_orders:\n",
    "    #     if ordered_product in inventory:\n",
    "    #         inventory[ordered_product] -= 1\n",
    "        # else:\n",
    "        #     print(f\"Warning: Product '{ordered_product}' not found in inventory.\")\n",
    "\n",
    "def calculate_order_statistics(customer_orders, products):\n",
    "    total_products_ordered = len(customer_orders)\n",
    "    percentage_ordered = (total_products_ordered / len(products)) * 100\n",
    "    return total_products_ordered, percentage_ordered\n",
    "\n",
    "def print_order_statistics(order_statistics):\n",
    "    print(\"Order Statistics\")\n",
    "    print(\"Total Products Ordered: \", order_statistics[0])\n",
    "    print(\"Percentage of Unique Products Ordered: \", order_statistics[1])\n",
    "\n",
    "def print_updated_inventory(inventory):\n",
    "    print(\"Updated Inventory:\")\n",
    "    for product in customer_orders:\n",
    "        inventory[product] -= 1\n",
    "        if inventory[product] < 1:\n",
    "            inventory.pop(product)\n",
    "    return inventory\n",
    "\n",
    "# print(products)\n",
    "# print(inventory)\n",
    "# inventory = initialize_inventory(products)\n",
    "# customer_orders = get_customer_orders()\n",
    "# inventory = update_inventory(customer_orders, inventory)\n",
    "# order_statistics = calculate_order_statistics(customer_orders, products)\n",
    "# print_order_statistics(order_statistics)\n",
    "# print_updated_inventory(inventory)\n",
    "\n",
    "initialize_inventory\n"
   ]
  }
 ],
 "metadata": {
  "kernelspec": {
   "display_name": "Python 3",
   "language": "python",
   "name": "python3"
  },
  "language_info": {
   "codemirror_mode": {
    "name": "ipython",
    "version": 3
   },
   "file_extension": ".py",
   "mimetype": "text/x-python",
   "name": "python",
   "nbconvert_exporter": "python",
   "pygments_lexer": "ipython3",
   "version": "3.11.7"
  }
 },
 "nbformat": 4,
 "nbformat_minor": 2
}
